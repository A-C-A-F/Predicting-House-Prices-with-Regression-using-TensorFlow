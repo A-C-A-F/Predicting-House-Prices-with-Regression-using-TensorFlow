{
 "cells": [
  {
   "cell_type": "markdown",
   "metadata": {},
   "source": [
    "# Predicting House Prices with Regression using TensorFlow"
   ]
  },
  {
   "cell_type": "markdown",
   "metadata": {},
   "source": [
    "# Task 1: Introduction\n",
    "\n",
    "---\n",
    "\n",
    "For this project, we are going to work on evaluating price of houses given the following features:\n",
    "\n",
    "1. Year of sale of the house\n",
    "2. The age of the house at the time of sale\n",
    "3. Distance from city center\n",
    "4. Number of stores in the locality\n",
    "5. The latitude\n",
    "6. The longitude\n",
    "\n",
    "__Data Source:__ https://www.kaggle.com/datasets/mubin2509/housepricedata\n",
    "\n",
    "To summarize, the problem we're trying to tackle is this:\n",
    "\n",
    "Given some data with these features and the corresponding\n",
    "price for various houses, *can we create and train a model that will give us fairly\n",
    "accurate price predictions for new, unseen data?*\n",
    "\n",
    "\n",
    "![Regression](images/regression.png)\n",
    "\n",
    "Note: This notebook uses `python 3` and these packages: `tensorflow`, `pandas`, `matplotlib`, `scikit-learn`."
   ]
  },
  {
   "cell_type": "markdown",
   "metadata": {},
   "source": [
    "## 1.1: Importing Libraries & Helper Functions\n",
    "\n",
    "First of all, we will need to import some libraries and helper functions. In this project, we're going to use __Tensorflow__, which is an open source machine learning library. It is one of the most popular and widely used ones\n",
    "at the moment, and we are going to use __Keras__, which is\n",
    "a high level interface to tensorflow. Keras provides the users with a simple to use interface, and it does the heavy lifting behind the scenes, leaving developers to focus on just the high level details."
   ]
  },
  {
   "cell_type": "code",
   "execution_count": 3,
   "metadata": {},
   "outputs": [
    {
     "name": "stdout",
     "output_type": "stream",
     "text": [
      "Libraries imported.\n"
     ]
    }
   ],
   "source": [
    "import pandas as pd\n",
    "import matplotlib.pyplot as plt\n",
    "import tensorflow as tf\n",
    "\n",
    "from utils import *\n",
    "from sklearn.model_selection import train_test_split\n",
    "from tensorflow.keras.models import Sequential\n",
    "from tensorflow.keras.layers import Dense, Dropout\n",
    "from tensorflow.keras.callbacks import EarlyStopping, LambdaCallback\n",
    "\n",
    "%matplotlib inline\n",
    "tf.compat.v1.logging.set_verbosity(tf.compat.v1.logging.ERROR)\n",
    "\n",
    "print('Libraries imported.')"
   ]
  },
  {
   "cell_type": "markdown",
   "metadata": {},
   "source": [
    "__Note:__\n",
    "\n",
    "tf.logging was for Logging and Summary Operations and in TF 2.0 it has been removed in favor of the open-source absl-py, and to make the main tf.* namespace has functions that will be used more often.\n",
    "\n",
    "https://stackoverflow.com/questions/55318626/module-tensorflow-has-no-attribute-logging"
   ]
  },
  {
   "cell_type": "markdown",
   "metadata": {},
   "source": [
    "# Task 2: Importing the Data"
   ]
  },
  {
   "cell_type": "markdown",
   "metadata": {},
   "source": [
    "## 2.1: Importing the Data\n",
    "\n",
    "The dataset is saved in a `data.csv` file. We will use `pandas` to take a look at some of the rows."
   ]
  },
  {
   "cell_type": "code",
   "execution_count": 4,
   "metadata": {},
   "outputs": [
    {
     "data": {
      "text/html": [
       "<div>\n",
       "<style scoped>\n",
       "    .dataframe tbody tr th:only-of-type {\n",
       "        vertical-align: middle;\n",
       "    }\n",
       "\n",
       "    .dataframe tbody tr th {\n",
       "        vertical-align: top;\n",
       "    }\n",
       "\n",
       "    .dataframe thead th {\n",
       "        text-align: right;\n",
       "    }\n",
       "</style>\n",
       "<table border=\"1\" class=\"dataframe\">\n",
       "  <thead>\n",
       "    <tr style=\"text-align: right;\">\n",
       "      <th></th>\n",
       "      <th>0</th>\n",
       "      <th>2009</th>\n",
       "      <th>21</th>\n",
       "      <th>9</th>\n",
       "      <th>6</th>\n",
       "      <th>84</th>\n",
       "      <th>121</th>\n",
       "      <th>14264</th>\n",
       "    </tr>\n",
       "  </thead>\n",
       "  <tbody>\n",
       "    <tr>\n",
       "      <th>0</th>\n",
       "      <td>1</td>\n",
       "      <td>2007</td>\n",
       "      <td>4</td>\n",
       "      <td>2</td>\n",
       "      <td>3</td>\n",
       "      <td>86</td>\n",
       "      <td>121</td>\n",
       "      <td>12032</td>\n",
       "    </tr>\n",
       "    <tr>\n",
       "      <th>1</th>\n",
       "      <td>2</td>\n",
       "      <td>2016</td>\n",
       "      <td>18</td>\n",
       "      <td>3</td>\n",
       "      <td>7</td>\n",
       "      <td>90</td>\n",
       "      <td>120</td>\n",
       "      <td>13560</td>\n",
       "    </tr>\n",
       "    <tr>\n",
       "      <th>2</th>\n",
       "      <td>3</td>\n",
       "      <td>2002</td>\n",
       "      <td>13</td>\n",
       "      <td>2</td>\n",
       "      <td>2</td>\n",
       "      <td>80</td>\n",
       "      <td>128</td>\n",
       "      <td>12029</td>\n",
       "    </tr>\n",
       "    <tr>\n",
       "      <th>3</th>\n",
       "      <td>4</td>\n",
       "      <td>2014</td>\n",
       "      <td>25</td>\n",
       "      <td>5</td>\n",
       "      <td>8</td>\n",
       "      <td>81</td>\n",
       "      <td>122</td>\n",
       "      <td>14157</td>\n",
       "    </tr>\n",
       "    <tr>\n",
       "      <th>4</th>\n",
       "      <td>5</td>\n",
       "      <td>2008</td>\n",
       "      <td>11</td>\n",
       "      <td>9</td>\n",
       "      <td>3</td>\n",
       "      <td>88</td>\n",
       "      <td>126</td>\n",
       "      <td>14287</td>\n",
       "    </tr>\n",
       "  </tbody>\n",
       "</table>\n",
       "</div>"
      ],
      "text/plain": [
       "   0  2009  21  9  6  84  121  14264\n",
       "0  1  2007   4  2  3  86  121  12032\n",
       "1  2  2016  18  3  7  90  120  13560\n",
       "2  3  2002  13  2  2  80  128  12029\n",
       "3  4  2014  25  5  8  81  122  14157\n",
       "4  5  2008  11  9  3  88  126  14287"
      ]
     },
     "execution_count": 4,
     "metadata": {},
     "output_type": "execute_result"
    }
   ],
   "source": [
    "df = pd.read_csv('data.csv')\n",
    "df.head()"
   ]
  },
  {
   "cell_type": "markdown",
   "metadata": {},
   "source": [
    "As we can see above, our df does not have any column name."
   ]
  },
  {
   "cell_type": "code",
   "execution_count": 5,
   "metadata": {},
   "outputs": [
    {
     "data": {
      "text/html": [
       "<div>\n",
       "<style scoped>\n",
       "    .dataframe tbody tr th:only-of-type {\n",
       "        vertical-align: middle;\n",
       "    }\n",
       "\n",
       "    .dataframe tbody tr th {\n",
       "        vertical-align: top;\n",
       "    }\n",
       "\n",
       "    .dataframe thead th {\n",
       "        text-align: right;\n",
       "    }\n",
       "</style>\n",
       "<table border=\"1\" class=\"dataframe\">\n",
       "  <thead>\n",
       "    <tr style=\"text-align: right;\">\n",
       "      <th></th>\n",
       "      <th>serial</th>\n",
       "      <th>date</th>\n",
       "      <th>age</th>\n",
       "      <th>distance</th>\n",
       "      <th>stores</th>\n",
       "      <th>latitude</th>\n",
       "      <th>longitude</th>\n",
       "      <th>price</th>\n",
       "    </tr>\n",
       "  </thead>\n",
       "  <tbody>\n",
       "    <tr>\n",
       "      <th>0</th>\n",
       "      <td>0</td>\n",
       "      <td>2009</td>\n",
       "      <td>21</td>\n",
       "      <td>9</td>\n",
       "      <td>6</td>\n",
       "      <td>84</td>\n",
       "      <td>121</td>\n",
       "      <td>14264</td>\n",
       "    </tr>\n",
       "    <tr>\n",
       "      <th>1</th>\n",
       "      <td>1</td>\n",
       "      <td>2007</td>\n",
       "      <td>4</td>\n",
       "      <td>2</td>\n",
       "      <td>3</td>\n",
       "      <td>86</td>\n",
       "      <td>121</td>\n",
       "      <td>12032</td>\n",
       "    </tr>\n",
       "    <tr>\n",
       "      <th>2</th>\n",
       "      <td>2</td>\n",
       "      <td>2016</td>\n",
       "      <td>18</td>\n",
       "      <td>3</td>\n",
       "      <td>7</td>\n",
       "      <td>90</td>\n",
       "      <td>120</td>\n",
       "      <td>13560</td>\n",
       "    </tr>\n",
       "    <tr>\n",
       "      <th>3</th>\n",
       "      <td>3</td>\n",
       "      <td>2002</td>\n",
       "      <td>13</td>\n",
       "      <td>2</td>\n",
       "      <td>2</td>\n",
       "      <td>80</td>\n",
       "      <td>128</td>\n",
       "      <td>12029</td>\n",
       "    </tr>\n",
       "    <tr>\n",
       "      <th>4</th>\n",
       "      <td>4</td>\n",
       "      <td>2014</td>\n",
       "      <td>25</td>\n",
       "      <td>5</td>\n",
       "      <td>8</td>\n",
       "      <td>81</td>\n",
       "      <td>122</td>\n",
       "      <td>14157</td>\n",
       "    </tr>\n",
       "  </tbody>\n",
       "</table>\n",
       "</div>"
      ],
      "text/plain": [
       "   serial  date  age  distance  stores  latitude  longitude  price\n",
       "0       0  2009   21         9       6        84        121  14264\n",
       "1       1  2007    4         2       3        86        121  12032\n",
       "2       2  2016   18         3       7        90        120  13560\n",
       "3       3  2002   13         2       2        80        128  12029\n",
       "4       4  2014   25         5       8        81        122  14157"
      ]
     },
     "execution_count": 5,
     "metadata": {},
     "output_type": "execute_result"
    }
   ],
   "source": [
    "# Let's create a column nam\n",
    "column_names = ['serial', 'date', 'age', 'distance', 'stores', 'latitude', 'longitude', 'price']\n",
    "\n",
    "# let's read our df again and assign our column names\n",
    "df = pd.read_csv('data.csv', names = column_names)\n",
    "\n",
    "# check head again of our df\n",
    "df.head()"
   ]
  },
  {
   "cell_type": "markdown",
   "metadata": {},
   "source": [
    "Now our data is loaded with column names. Here every row represents a single sale of a house - for various houses.\n",
    "\n",
    "For example, the first row essentially tells us that\n",
    "this house was sold in 2009 when it was 21 years\n",
    "old. And it was at a distance of nine. This measure of distance nine could be nine kilometers\n",
    "or miles from the city center. It had six stores nearby in the locality. The location in latitude and longitude are also specified. And lastly, price column shows the price that it was sold for."
   ]
  },
  {
   "cell_type": "code",
   "execution_count": 6,
   "metadata": {},
   "outputs": [
    {
     "data": {
      "text/plain": [
       "(5000, 8)"
      ]
     },
     "execution_count": 6,
     "metadata": {},
     "output_type": "execute_result"
    }
   ],
   "source": [
    "# check the shape of the df\n",
    "df.shape"
   ]
  },
  {
   "cell_type": "markdown",
   "metadata": {},
   "source": [
    "We see here that there are a few thousands of such entries. \n",
    "In this project, what we're trying to achieve is create a neural network model,\n",
    "which can learn the input, output mapping or the underlying\n",
    "mathematical function between these six features, from __date__\n",
    "to __longitude__, and the label, which is\n",
    "__price__."
   ]
  },
  {
   "cell_type": "markdown",
   "metadata": {},
   "source": [
    "## 2.2: Check Missing Data\n",
    "\n",
    "It's a good practice to check if the data has any missing values. In real world data, this is quite common and must be taken care of before any data pre-processing or model training."
   ]
  },
  {
   "cell_type": "code",
   "execution_count": 9,
   "metadata": {},
   "outputs": [
    {
     "data": {
      "text/plain": [
       "serial       0\n",
       "date         0\n",
       "age          0\n",
       "distance     0\n",
       "stores       0\n",
       "latitude     0\n",
       "longitude    0\n",
       "price        0\n",
       "dtype: int64"
      ]
     },
     "execution_count": 9,
     "metadata": {},
     "output_type": "execute_result"
    }
   ],
   "source": [
    "# use isna function of pandas\n",
    "# this function will return a boolean value of True or False for each column\n",
    "# in each row of our data\n",
    "# however, since there are thousands of rows here, it's practical to\n",
    "# use also the sum() function\n",
    "\n",
    "df.isna().sum()"
   ]
  },
  {
   "cell_type": "markdown",
   "metadata": {},
   "source": [
    "It seems like we don't have any missing values.\n",
    "So that is great. Because there are no missing values, we can simply move to the next task and start working on data normalization."
   ]
  },
  {
   "cell_type": "markdown",
   "metadata": {},
   "source": [
    "# Task 3: Data Normalization"
   ]
  },
  {
   "cell_type": "markdown",
   "metadata": {},
   "source": [
    "## 3.1: Data Normalization\n",
    "\n",
    "We can make it easier for optimization algorithms to find minimas by normalizing the data before training a model.\n",
    "\n",
    "We may remember that neural network model is trained\n",
    "with the help of an optimization algorithm that tries\n",
    "to minimize the difference between ground truth\n",
    "and the model's predictions.\n",
    "Normalization of data makes it easier for such\n",
    "an optimization algorithm to take gradient steps in the right\n",
    "direction more consistently. \n",
    "\n",
    "Normalization is simply changing\n",
    "the distribution of different features so that the values\n",
    "for different features are in similar ranges."
   ]
  },
  {
   "cell_type": "markdown",
   "metadata": {},
   "source": [
    "Now we might remember that the first column that we have is\n",
    "simply a serial number, so this is not a real feature."
   ]
  },
  {
   "cell_type": "code",
   "execution_count": 11,
   "metadata": {},
   "outputs": [
    {
     "data": {
      "text/html": [
       "<div>\n",
       "<style scoped>\n",
       "    .dataframe tbody tr th:only-of-type {\n",
       "        vertical-align: middle;\n",
       "    }\n",
       "\n",
       "    .dataframe tbody tr th {\n",
       "        vertical-align: top;\n",
       "    }\n",
       "\n",
       "    .dataframe thead th {\n",
       "        text-align: right;\n",
       "    }\n",
       "</style>\n",
       "<table border=\"1\" class=\"dataframe\">\n",
       "  <thead>\n",
       "    <tr style=\"text-align: right;\">\n",
       "      <th></th>\n",
       "      <th>serial</th>\n",
       "      <th>date</th>\n",
       "      <th>age</th>\n",
       "      <th>distance</th>\n",
       "      <th>stores</th>\n",
       "      <th>latitude</th>\n",
       "      <th>longitude</th>\n",
       "      <th>price</th>\n",
       "    </tr>\n",
       "  </thead>\n",
       "  <tbody>\n",
       "    <tr>\n",
       "      <th>0</th>\n",
       "      <td>0</td>\n",
       "      <td>2009</td>\n",
       "      <td>21</td>\n",
       "      <td>9</td>\n",
       "      <td>6</td>\n",
       "      <td>84</td>\n",
       "      <td>121</td>\n",
       "      <td>14264</td>\n",
       "    </tr>\n",
       "    <tr>\n",
       "      <th>1</th>\n",
       "      <td>1</td>\n",
       "      <td>2007</td>\n",
       "      <td>4</td>\n",
       "      <td>2</td>\n",
       "      <td>3</td>\n",
       "      <td>86</td>\n",
       "      <td>121</td>\n",
       "      <td>12032</td>\n",
       "    </tr>\n",
       "    <tr>\n",
       "      <th>2</th>\n",
       "      <td>2</td>\n",
       "      <td>2016</td>\n",
       "      <td>18</td>\n",
       "      <td>3</td>\n",
       "      <td>7</td>\n",
       "      <td>90</td>\n",
       "      <td>120</td>\n",
       "      <td>13560</td>\n",
       "    </tr>\n",
       "    <tr>\n",
       "      <th>3</th>\n",
       "      <td>3</td>\n",
       "      <td>2002</td>\n",
       "      <td>13</td>\n",
       "      <td>2</td>\n",
       "      <td>2</td>\n",
       "      <td>80</td>\n",
       "      <td>128</td>\n",
       "      <td>12029</td>\n",
       "    </tr>\n",
       "    <tr>\n",
       "      <th>4</th>\n",
       "      <td>4</td>\n",
       "      <td>2014</td>\n",
       "      <td>25</td>\n",
       "      <td>5</td>\n",
       "      <td>8</td>\n",
       "      <td>81</td>\n",
       "      <td>122</td>\n",
       "      <td>14157</td>\n",
       "    </tr>\n",
       "  </tbody>\n",
       "</table>\n",
       "</div>"
      ],
      "text/plain": [
       "   serial  date  age  distance  stores  latitude  longitude  price\n",
       "0       0  2009   21         9       6        84        121  14264\n",
       "1       1  2007    4         2       3        86        121  12032\n",
       "2       2  2016   18         3       7        90        120  13560\n",
       "3       3  2002   13         2       2        80        128  12029\n",
       "4       4  2014   25         5       8        81        122  14157"
      ]
     },
     "execution_count": 11,
     "metadata": {},
     "output_type": "execute_result"
    }
   ],
   "source": [
    "# check again the head to verify\n",
    "df.head()"
   ]
  },
  {
   "cell_type": "code",
   "execution_count": 12,
   "metadata": {},
   "outputs": [
    {
     "data": {
      "text/html": [
       "<div>\n",
       "<style scoped>\n",
       "    .dataframe tbody tr th:only-of-type {\n",
       "        vertical-align: middle;\n",
       "    }\n",
       "\n",
       "    .dataframe tbody tr th {\n",
       "        vertical-align: top;\n",
       "    }\n",
       "\n",
       "    .dataframe thead th {\n",
       "        text-align: right;\n",
       "    }\n",
       "</style>\n",
       "<table border=\"1\" class=\"dataframe\">\n",
       "  <thead>\n",
       "    <tr style=\"text-align: right;\">\n",
       "      <th></th>\n",
       "      <th>date</th>\n",
       "      <th>age</th>\n",
       "      <th>distance</th>\n",
       "      <th>stores</th>\n",
       "      <th>latitude</th>\n",
       "      <th>longitude</th>\n",
       "      <th>price</th>\n",
       "    </tr>\n",
       "  </thead>\n",
       "  <tbody>\n",
       "    <tr>\n",
       "      <th>0</th>\n",
       "      <td>0.015978</td>\n",
       "      <td>0.181384</td>\n",
       "      <td>1.257002</td>\n",
       "      <td>0.345224</td>\n",
       "      <td>-0.307212</td>\n",
       "      <td>-1.260799</td>\n",
       "      <td>0.350088</td>\n",
       "    </tr>\n",
       "    <tr>\n",
       "      <th>1</th>\n",
       "      <td>-0.350485</td>\n",
       "      <td>-1.319118</td>\n",
       "      <td>-0.930610</td>\n",
       "      <td>-0.609312</td>\n",
       "      <td>0.325301</td>\n",
       "      <td>-1.260799</td>\n",
       "      <td>-1.836486</td>\n",
       "    </tr>\n",
       "    <tr>\n",
       "      <th>2</th>\n",
       "      <td>1.298598</td>\n",
       "      <td>-0.083410</td>\n",
       "      <td>-0.618094</td>\n",
       "      <td>0.663402</td>\n",
       "      <td>1.590328</td>\n",
       "      <td>-1.576456</td>\n",
       "      <td>-0.339584</td>\n",
       "    </tr>\n",
       "    <tr>\n",
       "      <th>3</th>\n",
       "      <td>-1.266643</td>\n",
       "      <td>-0.524735</td>\n",
       "      <td>-0.930610</td>\n",
       "      <td>-0.927491</td>\n",
       "      <td>-1.572238</td>\n",
       "      <td>0.948803</td>\n",
       "      <td>-1.839425</td>\n",
       "    </tr>\n",
       "    <tr>\n",
       "      <th>4</th>\n",
       "      <td>0.932135</td>\n",
       "      <td>0.534444</td>\n",
       "      <td>0.006938</td>\n",
       "      <td>0.981581</td>\n",
       "      <td>-1.255981</td>\n",
       "      <td>-0.945141</td>\n",
       "      <td>0.245266</td>\n",
       "    </tr>\n",
       "  </tbody>\n",
       "</table>\n",
       "</div>"
      ],
      "text/plain": [
       "       date       age  distance    stores  latitude  longitude     price\n",
       "0  0.015978  0.181384  1.257002  0.345224 -0.307212  -1.260799  0.350088\n",
       "1 -0.350485 -1.319118 -0.930610 -0.609312  0.325301  -1.260799 -1.836486\n",
       "2  1.298598 -0.083410 -0.618094  0.663402  1.590328  -1.576456 -0.339584\n",
       "3 -1.266643 -0.524735 -0.930610 -0.927491 -1.572238   0.948803 -1.839425\n",
       "4  0.932135  0.534444  0.006938  0.981581 -1.255981  -0.945141  0.245266"
      ]
     },
     "execution_count": 12,
     "metadata": {},
     "output_type": "execute_result"
    }
   ],
   "source": [
    "# Since these are not real features, we can ignore this using iloc\n",
    "df = df.iloc[:, 1:]\n",
    "# The first argument here is rows, and the second\n",
    "# one is columns. So we can ignore the first column using the above input.\n",
    "# Now this __iloc__ simply means that you're selecting data for your rows and your columns.\n",
    "# The \":1\" means that we are selecting columns one onward, so we're ignoring\n",
    "# the one which is the first one. And then from the second column onwards, we are selecting all\n",
    "# of them till the end.\n",
    "\n",
    "# Now let's normalize our data using Pandas. \n",
    "df_norm = (df - df.mean())/df.std()\n",
    "# We can use df.mean() and that will give us column wise\n",
    "# values. For each column, there will be a mean value,\n",
    "# and this operation will be column wise.\n",
    "# And then we will divide this value by standard deviation.\n",
    "# And again that will be for each column.\n",
    "# So this actually makes it super simple to find out\n",
    "# the normalized values because we don't have to go\n",
    "# through each column separately.\n",
    "# It's automatically done by pandas.\n",
    "# It's taken care of behind the scenes, so you just have\n",
    "# to use \"(df - df.mean())/df.std()\".\n",
    "\n",
    "# Let's take a look at the normalized values.\n",
    "df_norm.head()"
   ]
  },
  {
   "cell_type": "markdown",
   "metadata": {},
   "source": [
    "The range were very different previously, but now\n",
    "after normalization, they are kind of in the similar range.\n",
    "\n",
    "For example, the __date__ was around 2000.\n",
    "So, it would be something like 2009, 2013 and so\n",
    "on.\n",
    "\n",
    "And __age__ was again a numeric value like 20 or 21 something\n",
    "like that.\n",
    "\n",
    "So all of those have been normalized in similar ranges. Which\n",
    "is basically the purpose of this normalization task was."
   ]
  },
  {
   "cell_type": "markdown",
   "metadata": {},
   "source": [
    "## 3.2: Convert Label Value\n",
    "\n",
    "Because we are using normalized values for the labels, we will get the predictions back from a trained model in the same distribution. So, we need to convert the predicted values back to the original distribution if we want predicted prices.\n",
    "\n",
    "We don't need to do that immediately.\n",
    "We will just write a function to do that for now.\n",
    "And if we need to take a look at prediction in the range\n",
    "of original price range, then we can use that function."
   ]
  },
  {
   "cell_type": "code",
   "execution_count": 13,
   "metadata": {},
   "outputs": [
    {
     "name": "stdout",
     "output_type": "stream",
     "text": [
      "14263\n"
     ]
    }
   ],
   "source": [
    "# let's calculate mean for just the labels.\n",
    "y_mean = df['price'].mean()\n",
    "# Notice that we're using data frame and not data from normalized. Because we want \n",
    "# the mean of the original distribution.\n",
    "\n",
    "# And we will have the standard deviation.\n",
    "y_std = df['price'].std()\n",
    "\n",
    "# Now, we will convert label value from prediction to the original price.\n",
    "def convert_label_value(pred):\n",
    "    return int(pred * y_std + y_mean)\n",
    "# This will give us the prediction back into original price distribution.\n",
    "\n",
    "# Now let's try if this work. Use sample first row in price column of df_norm.\n",
    "print(convert_label_value(0.350088))"
   ]
  },
  {
   "cell_type": "markdown",
   "metadata": {},
   "source": [
    "Now, if we check the first row of the original __df__, the value is 14264. The result of our function is almost the same. Although we missed a 1 point, but this is because we are using just the integer part in our function __convert_label_value__. We have encapsulated this result in in an integer but that is fine.\n",
    "\n",
    "All right, so we have a convert label value function, which we can use later after the model training\n",
    "has been done to convert our predictions back into prices."
   ]
  },
  {
   "cell_type": "markdown",
   "metadata": {},
   "source": [
    "# Task 4: Create Training and Test Sets"
   ]
  },
  {
   "cell_type": "markdown",
   "metadata": {},
   "source": [
    "## 4.1: Select Features\n",
    "\n",
    "Make sure to remove the column __price__ from the list of features as it is the label and should not be used as a feature."
   ]
  },
  {
   "cell_type": "code",
   "execution_count": 15,
   "metadata": {},
   "outputs": [
    {
     "data": {
      "text/html": [
       "<div>\n",
       "<style scoped>\n",
       "    .dataframe tbody tr th:only-of-type {\n",
       "        vertical-align: middle;\n",
       "    }\n",
       "\n",
       "    .dataframe tbody tr th {\n",
       "        vertical-align: top;\n",
       "    }\n",
       "\n",
       "    .dataframe thead th {\n",
       "        text-align: right;\n",
       "    }\n",
       "</style>\n",
       "<table border=\"1\" class=\"dataframe\">\n",
       "  <thead>\n",
       "    <tr style=\"text-align: right;\">\n",
       "      <th></th>\n",
       "      <th>date</th>\n",
       "      <th>age</th>\n",
       "      <th>distance</th>\n",
       "      <th>stores</th>\n",
       "      <th>latitude</th>\n",
       "      <th>longitude</th>\n",
       "    </tr>\n",
       "  </thead>\n",
       "  <tbody>\n",
       "    <tr>\n",
       "      <th>0</th>\n",
       "      <td>0.015978</td>\n",
       "      <td>0.181384</td>\n",
       "      <td>1.257002</td>\n",
       "      <td>0.345224</td>\n",
       "      <td>-0.307212</td>\n",
       "      <td>-1.260799</td>\n",
       "    </tr>\n",
       "    <tr>\n",
       "      <th>1</th>\n",
       "      <td>-0.350485</td>\n",
       "      <td>-1.319118</td>\n",
       "      <td>-0.930610</td>\n",
       "      <td>-0.609312</td>\n",
       "      <td>0.325301</td>\n",
       "      <td>-1.260799</td>\n",
       "    </tr>\n",
       "    <tr>\n",
       "      <th>2</th>\n",
       "      <td>1.298598</td>\n",
       "      <td>-0.083410</td>\n",
       "      <td>-0.618094</td>\n",
       "      <td>0.663402</td>\n",
       "      <td>1.590328</td>\n",
       "      <td>-1.576456</td>\n",
       "    </tr>\n",
       "    <tr>\n",
       "      <th>3</th>\n",
       "      <td>-1.266643</td>\n",
       "      <td>-0.524735</td>\n",
       "      <td>-0.930610</td>\n",
       "      <td>-0.927491</td>\n",
       "      <td>-1.572238</td>\n",
       "      <td>0.948803</td>\n",
       "    </tr>\n",
       "    <tr>\n",
       "      <th>4</th>\n",
       "      <td>0.932135</td>\n",
       "      <td>0.534444</td>\n",
       "      <td>0.006938</td>\n",
       "      <td>0.981581</td>\n",
       "      <td>-1.255981</td>\n",
       "      <td>-0.945141</td>\n",
       "    </tr>\n",
       "  </tbody>\n",
       "</table>\n",
       "</div>"
      ],
      "text/plain": [
       "       date       age  distance    stores  latitude  longitude\n",
       "0  0.015978  0.181384  1.257002  0.345224 -0.307212  -1.260799\n",
       "1 -0.350485 -1.319118 -0.930610 -0.609312  0.325301  -1.260799\n",
       "2  1.298598 -0.083410 -0.618094  0.663402  1.590328  -1.576456\n",
       "3 -1.266643 -0.524735 -0.930610 -0.927491 -1.572238   0.948803\n",
       "4  0.932135  0.534444  0.006938  0.981581 -1.255981  -0.945141"
      ]
     },
     "execution_count": 15,
     "metadata": {},
     "output_type": "execute_result"
    }
   ],
   "source": [
    "x = df_norm.iloc[:, :6]\n",
    "x.head()"
   ]
  },
  {
   "cell_type": "markdown",
   "metadata": {},
   "source": [
    "## 4.2: Select Labels"
   ]
  },
  {
   "cell_type": "code",
   "execution_count": 16,
   "metadata": {},
   "outputs": [
    {
     "data": {
      "text/plain": [
       "0    0.350088\n",
       "1   -1.836486\n",
       "2   -0.339584\n",
       "3   -1.839425\n",
       "4    0.245266\n",
       "Name: price, dtype: float64"
      ]
     },
     "execution_count": 16,
     "metadata": {},
     "output_type": "execute_result"
    }
   ],
   "source": [
    "# price column is our label. Let's separte it.\n",
    "y = df_norm.iloc[:, -1]\n",
    "y.head()"
   ]
  },
  {
   "cell_type": "markdown",
   "metadata": {},
   "source": [
    "## 4.3: Feature and Label Values\n",
    "\n",
    "We will need to extract just the numeric values for the features and labels as the TensorFlow model will expect just numeric values as input."
   ]
  },
  {
   "cell_type": "markdown",
   "metadata": {},
   "source": [
    "Now X and Y are still panda data structures. So both our data frames.\n",
    "We will need to extract just the numeric values for both X and y, because the tensorflow model that we are going use will expect numeric values as input.\n",
    "\n",
    "Now numpy arrays are compatible, so we can access number arrays\n",
    "from the data frames just by accessing the \".values\"\n",
    "parameter from our data frames."
   ]
  },
  {
   "cell_type": "code",
   "execution_count": 17,
   "metadata": {},
   "outputs": [
    {
     "name": "stdout",
     "output_type": "stream",
     "text": [
      "features array shape: (5000, 6)\n",
      "labels array shape: (5000,)\n"
     ]
    }
   ],
   "source": [
    "x_arr = x.values # get and assign the feature arrays\n",
    "y_arr = y.values # get and assign the label arrays\n",
    "# Now the values of our x and y are in multidimensional arrays \n",
    "# although for the case of y, it's basically just a list\n",
    "\n",
    "# Now let's take a look of the shapes\n",
    "print('features array shape:', x_arr.shape)\n",
    "print('labels array shape:', y_arr.shape)"
   ]
  },
  {
   "cell_type": "markdown",
   "metadata": {},
   "source": [
    "In the features array, every single example\n",
    "has six features which we already know from looking\n",
    "at the data frame before. And it has 5000 total examples.\n",
    "\n",
    "Our labels on the other hand is just one value in each example. And there are 5000 examples.\n",
    "\n",
    "Now, let's create two sets out of these examples.\n",
    "We will use one for training the model and another one\n",
    "for testing it."
   ]
  },
  {
   "cell_type": "markdown",
   "metadata": {},
   "source": [
    "## 4.4: Train and Test Split\n",
    "\n",
    "We will keep some part of the data aside as a __test__ set. The model will not use this set during training and it will be used only for checking the performance of the model in trained and un-trained states. This way, we can make sure that we are going in the right direction with our model training."
   ]
  },
  {
   "cell_type": "markdown",
   "metadata": {},
   "source": [
    "If we train our model using all the examples that we have,\n",
    "then we have no way to measure the performance of a train\n",
    "model in an unbiased way.\n",
    "\n",
    "What that means is that we we will know the performance\n",
    "of the model on the training data set, but we have no way\n",
    "of assessing if it will actually work on new data, which\n",
    "the model has never seen before.\n",
    "Therefore, we are using a test set to ensure that the\n",
    "model is trained. When the model is trained it is actually trying to figure out the underlying\n",
    "mathematical function between inputs and outputs.\n",
    "It's not just memorizing the data.\n",
    "\n",
    "So we will use a helper function called train test split to\n",
    "create these two sets."
   ]
  },
  {
   "cell_type": "code",
   "execution_count": 18,
   "metadata": {},
   "outputs": [
    {
     "name": "stdout",
     "output_type": "stream",
     "text": [
      "Training set: (4750, 6) (4750,)\n",
      "Test set: (250, 6) (250,)\n"
     ]
    }
   ],
   "source": [
    "# x_train and y_train are the features and labels for the training set.\n",
    "# While x_test and y_test are the features and labels for the test set.\n",
    "\n",
    "# Let's pass our features and label. \n",
    "# Our test size is 0.5 which means that we are using only 5% of the samples as our test set.\n",
    "# I'll use Random State zero so if I decide to run this project again, I'll still get the same result.\n",
    "\n",
    "x_train, x_test, y_train, y_test = train_test_split(x_arr, y_arr, test_size=0.05, random_state=0)\n",
    "\n",
    "# Let's check the shapes of our training and test sets\n",
    "print('Training set:', x_train.shape, y_train.shape)\n",
    "print('Test set:', x_test.shape, y_test.shape)"
   ]
  },
  {
   "cell_type": "markdown",
   "metadata": {},
   "source": [
    "Now we have 4750 samples in the training set and we have 250\n",
    "samples in the test set.\n",
    "\n",
    "Great! And now we have two sets.\n",
    "The larger one is the training set.\n",
    "And the smaller one is the test set.\n",
    "So now we're done with our data pre processing.\n",
    "We can go to the next task where we will create a neural\n",
    "network model."
   ]
  },
  {
   "cell_type": "markdown",
   "metadata": {},
   "source": [
    "# Task 5: Create the Model"
   ]
  },
  {
   "cell_type": "markdown",
   "metadata": {},
   "source": [
    "## 5.1: Create the Model\n",
    "\n",
    "Let's write a function that returns an untrained model of a certain architecture.\n",
    "\n",
    "We're using a simple neural network architecture with just three hidden layers.\n",
    "We're going to use the relu activation function on all the layers except for the output layer."
   ]
  },
  {
   "cell_type": "code",
   "execution_count": 25,
   "metadata": {},
   "outputs": [
    {
     "name": "stdout",
     "output_type": "stream",
     "text": [
      "Model: \"sequential\"\n",
      "_________________________________________________________________\n",
      " Layer (type)                Output Shape              Param #   \n",
      "=================================================================\n",
      " dense_2 (Dense)             (None, 10)                70        \n",
      "                                                                 \n",
      " dense_3 (Dense)             (None, 20)                220       \n",
      "                                                                 \n",
      " dense_4 (Dense)             (None, 5)                 105       \n",
      "                                                                 \n",
      " dense_5 (Dense)             (None, 1)                 6         \n",
      "                                                                 \n",
      "=================================================================\n",
      "Total params: 401\n",
      "Trainable params: 401\n",
      "Non-trainable params: 0\n",
      "_________________________________________________________________\n"
     ]
    }
   ],
   "source": [
    "def get_model():\n",
    "    model = Sequential([ # we'll use this class from keras.\n",
    "                         # The cool thing about this class is you can just pass\n",
    "                         # on a list of layers to create your model architecture.\n",
    "        Dense(10, input_shape = (6, ), activation = 'relu'), # our first layer is a dense layer with 10 nodes\n",
    "                                                            # input shape is simply a list of six values because we just have six features.\n",
    "                                                            # The activation is going to be 'relu' or rectified linear unit\n",
    "        Dense(20, activation = 'relu'), # next layer is a fully coonected or dense layer again. Let's use 20 nodes.\n",
    "        Dense(5, activation = 'relu'), # one more hidden layer.\n",
    "        Dense(1) # the output layer\n",
    "        # so we have three hidden layers. we have the input. And then we have three hidden layers.\n",
    "        # 10, 20 and five nodes respectively. All the layers have activation function set to value\n",
    "        # except for the output layer.\n",
    "        # Since this is a regression problem, we just need the linear output without any \n",
    "        # activation function here.\n",
    "    ]) # These are all fully connected layers, and the number of parameters correspond to \n",
    "       # the number of nodes that we have.\n",
    "    model.compile( # before we can use the model, we obviously need to compile it.\n",
    "        loss = 'mse', # specify a loss function. In this case means squared error (mse).\n",
    "                      # mse is a common loss function used for regression problems.\n",
    "                      # Remember, this is the loss function that the optimization algorithm tries to minimize.\n",
    "        optimizer = 'adam' # specify an optimizer. In this case we are using Adam.\n",
    "                           # adam is a variant of stochastic gradient descent.\n",
    "                           # an optimization algorithm is for minimizing the loss of function.\n",
    "    )\n",
    "    return model\n",
    "\n",
    "# Let's take a look at the summary for our model.\n",
    "# We'll use the function summary method which is available for keras models to take a look\n",
    "# at the model architecture.\n",
    "get_model().summary()"
   ]
  },
  {
   "cell_type": "markdown",
   "metadata": {},
   "source": [
    "The first dense layer that we see here is our first\n",
    "dense layer, which has 10 nodes.\n",
    "The next one has 20.\n",
    "The next one has 5.\n",
    "And the final one, the output layer has one.\n",
    "\n",
    "We can see that we have trainable parameters count 401.\n",
    "Because these are dense layers, they are fully\n",
    "connected layers.\n",
    "\n",
    "To understand how these parameters in params column arrived at, we can simply\n",
    "multiply the nodes in our output layer, in any one of these layers, with the nodes in the preceeding layer.\n",
    "\n",
    "Fro example, the parms 105 is a the result of *5 of dense 2* multiply to *20 of dense 1*. Which is 100. And then, one interceptor connected to all the nodes of the layer.\n",
    "\n",
    "So our model is now ready, and we can now\n",
    "start training it.\n",
    "Let's do that in the next task."
   ]
  },
  {
   "cell_type": "markdown",
   "metadata": {},
   "source": [
    "# Task 6: Model Training"
   ]
  },
  {
   "cell_type": "markdown",
   "metadata": {},
   "source": [
    "## 6.1: Model Training\n",
    "\n",
    "We can use an `EarlyStopping` callback from Keras to stop the model training if the validation loss stops decreasing for a few epochs."
   ]
  },
  {
   "cell_type": "markdown",
   "metadata": {},
   "source": [
    "If the validation loss stops decreasing for a few epochs, you\n",
    "could be monitoring some other parameter like training loss\n",
    "or validation accuracy, etcetera.\n",
    "\n",
    "In our case, we are going to use validation loss for early\n",
    "stopping. The validation loss is calculated on the test set and not\n",
    "on the training set, so it's a better metric to use to make\n",
    "a decision on stopping the training.\n",
    "\n",
    "By using early stopping callback, we can be generous with the epoch value and set it to a very\n",
    "high number. And the model will simply stop training when it doesn't see any improvement in the validation loss."
   ]
  },
  {
   "cell_type": "code",
   "execution_count": 29,
   "metadata": {},
   "outputs": [
    {
     "name": "stdout",
     "output_type": "stream",
     "text": [
      "Epoch 1/100\n",
      "149/149 [==============================] - 1s 2ms/step - loss: 0.7354 - val_loss: 0.3543\n",
      "Epoch 2/100\n",
      "149/149 [==============================] - 0s 2ms/step - loss: 0.2805 - val_loss: 0.2419\n",
      "Epoch 3/100\n",
      "149/149 [==============================] - 0s 2ms/step - loss: 0.2058 - val_loss: 0.2087\n",
      "Epoch 4/100\n",
      "149/149 [==============================] - 0s 2ms/step - loss: 0.1809 - val_loss: 0.1866\n",
      "Epoch 5/100\n",
      "149/149 [==============================] - 0s 2ms/step - loss: 0.1711 - val_loss: 0.1765\n",
      "Epoch 6/100\n",
      "149/149 [==============================] - 0s 2ms/step - loss: 0.1655 - val_loss: 0.1754\n",
      "Epoch 7/100\n",
      "149/149 [==============================] - 0s 2ms/step - loss: 0.1632 - val_loss: 0.1667\n",
      "Epoch 8/100\n",
      "149/149 [==============================] - 0s 2ms/step - loss: 0.1608 - val_loss: 0.1655\n",
      "Epoch 9/100\n",
      "149/149 [==============================] - 0s 2ms/step - loss: 0.1594 - val_loss: 0.1657\n",
      "Epoch 10/100\n",
      "149/149 [==============================] - 0s 2ms/step - loss: 0.1584 - val_loss: 0.1642\n",
      "Epoch 11/100\n",
      "149/149 [==============================] - 0s 2ms/step - loss: 0.1576 - val_loss: 0.1628\n",
      "Epoch 12/100\n",
      "149/149 [==============================] - 0s 2ms/step - loss: 0.1567 - val_loss: 0.1619\n",
      "Epoch 13/100\n",
      "149/149 [==============================] - 0s 2ms/step - loss: 0.1555 - val_loss: 0.1591\n",
      "Epoch 14/100\n",
      "149/149 [==============================] - 0s 2ms/step - loss: 0.1545 - val_loss: 0.1594\n",
      "Epoch 15/100\n",
      "149/149 [==============================] - 0s 2ms/step - loss: 0.1548 - val_loss: 0.1621\n",
      "Epoch 16/100\n",
      "149/149 [==============================] - 0s 2ms/step - loss: 0.1532 - val_loss: 0.1555\n",
      "Epoch 17/100\n",
      "149/149 [==============================] - 0s 2ms/step - loss: 0.1528 - val_loss: 0.1576\n",
      "Epoch 18/100\n",
      "149/149 [==============================] - 0s 2ms/step - loss: 0.1531 - val_loss: 0.1567\n",
      "Epoch 19/100\n",
      "149/149 [==============================] - 0s 2ms/step - loss: 0.1525 - val_loss: 0.1590\n",
      "Epoch 20/100\n",
      "149/149 [==============================] - 0s 2ms/step - loss: 0.1519 - val_loss: 0.1573\n",
      "Epoch 21/100\n",
      "149/149 [==============================] - 0s 2ms/step - loss: 0.1514 - val_loss: 0.1561\n"
     ]
    }
   ],
   "source": [
    "# Let's write the early stopping callback like this. We will monitor validation loss and set the patients \n",
    "# do five. What this means is that the early stopping callback will monitor validation loss and wait for \n",
    "# five epochs before it decides to stop the training.\n",
    "es_cb = EarlyStopping(monitor='val_loss', patience=5)\n",
    "\n",
    "# let's create a model using our get model function.\n",
    "model = get_model()\n",
    "\n",
    "# let's get some predictions on the untrained model\n",
    "preds_on_untrained = model.predict(x_test)\n",
    "# Now the untrained model will pretty much give you random\n",
    "# predictions. But we'll save them in this variable anyways, \n",
    "# because we want to make some sort of comparison with predictions on train model later.\n",
    "\n",
    "# Use the model dot fit function to train our model or essentially fit the model on data\n",
    "# This willreturn a history object.\n",
    "# This history object has information on loss and validation loss across different epochs.\n",
    "history = model.fit(\n",
    "    x_train, y_train,\n",
    "    validation_data = (x_test, y_test),\n",
    "    epochs = 100,\n",
    "    callbacks = [es_cb]\n",
    ")\n",
    "\n",
    "# run the code above and the training will start."
   ]
  },
  {
   "cell_type": "markdown",
   "metadata": {},
   "source": [
    "## 6.2: Plot Training and Validation Loss\n",
    "\n",
    "Let's use the `plot_loss` helper function to take a look training and validation loss."
   ]
  },
  {
   "cell_type": "code",
   "execution_count": 30,
   "metadata": {},
   "outputs": [
    {
     "data": {
      "image/png": "[encoded data removed]",
      "text/plain": [
       "<Figure size 576x576 with 1 Axes>"
      ]
     },
     "metadata": {
      "needs_background": "light"
     },
     "output_type": "display_data"
    }
   ],
   "source": [
    "plot_loss(history)"
   ]
  },
  {
   "cell_type": "markdown",
   "metadata": {},
   "source": [
    "We should see a plot which shows us loss against the epochs.\n",
    "And the orange line is the training loss, and the blue\n",
    "one is validation loss.\n",
    "So our training loss is reducing. Our validation loss is\n",
    "reducing as well.\n",
    "But after, I think it's the 11th epoch, it basically does\n",
    "not really reduce further. So the training stops.\n",
    "\n",
    "Great! So it seems like our training worked. And now what we want\n",
    "to do is take a look at the predictions. We will take\n",
    "a look at both the raw predictions as well as predictions\n",
    "converted to prices."
   ]
  },
  {
   "cell_type": "markdown",
   "metadata": {},
   "source": [
    "# Task 7: Predictions"
   ]
  },
  {
   "cell_type": "markdown",
   "metadata": {},
   "source": [
    "## 7.1: Plot Raw Predictions\n",
    "\n",
    "Let's use the `compare_predictions` helper function to compare predictions from the model when it was untrained and when it was trained."
   ]
  },
  {
   "cell_type": "code",
   "execution_count": 31,
   "metadata": {},
   "outputs": [
    {
     "name": "stderr",
     "output_type": "stream",
     "text": [
      "C:\\Users\\user\\AppData\\Roaming\\jupyterlab-desktop\\jlab_server\\lib\\site-packages\\numpy\\core\\shape_base.py:65: VisibleDeprecationWarning: Creating an ndarray from ragged nested sequences (which is a list-or-tuple of lists-or-tuples-or ndarrays with different lengths or shapes) is deprecated. If you meant to do this, you must specify 'dtype=object' when creating the ndarray.\n",
      "  ary = asanyarray(ary)\n"
     ]
    },
    {
     "data": {
      "image/png": "[encoded data removed]",
      "text/plain": [
       "<Figure size 576x576 with 1 Axes>"
      ]
     },
     "metadata": {
      "needs_background": "light"
     },
     "output_type": "display_data"
    }
   ],
   "source": [
    "# Remember that we had some predictions on the untrained model. \n",
    "# Similarly, we will make some predictions on the train\n",
    "# model on the same data set which is X test.\n",
    "preds_on_trained = model.predict(x_test)\n",
    "\n",
    "# Then we will use the compare predictions helper function, and we will pass the predictions on\n",
    "# untrained model, predictions on the train model, and we also need to past the ground truth.\n",
    "compare_predictions(preds_on_untrained, preds_on_trained, y_test)"
   ]
  },
  {
   "cell_type": "markdown",
   "metadata": {},
   "source": [
    "So the x-axis is our predictions and the y-axis is the labels or the ground truth.\n",
    "The red dots are predictions from the untrained model, and the green dots are predictions from a train model.\n",
    "\n",
    "So we can see the untrained model is actually pretty random. It's making predictions all over the place, and that's expected. But for the trained model, we can see the pattern.\n",
    "It's pretty much a linear plot for the trained model predictions. \n",
    "Now it's making mistakes, of course, but the extent of those mistakes is, drastically less compared to\n",
    "what's happening on the un-trained model.\n",
    "\n",
    "So, in an ideal situation, our model should make predictions\n",
    "same as labels. Which in our plot above, its the dotted blue line.\n",
    "But our green trained model predictions are sort of\n",
    "following the dotted blue line, which means that our model\n",
    "training did actually work.\n",
    "\n",
    "Now in the train model predictions that we just saw in this plot, in the x-axis, we can see the range is from minus two to something like 2.5.\n",
    "\n",
    "And this is because, as we might remember, we normalized our\n",
    "data before training, and our predictions are, of course,\n",
    "going to be in that range.\n",
    "\n",
    "But if we want to take a look at the price predictions, as\n",
    "in the predictions converted to the original price range and\n",
    "then compare them, then we can do that as well."
   ]
  },
  {
   "cell_type": "markdown",
   "metadata": {},
   "source": [
    "## 7.2: Plot Price Predictions\n",
    "\n",
    "The plot for price predictions and raw predictions will look the same with just one difference: The x and y axis scale is changed."
   ]
  },
  {
   "cell_type": "code",
   "execution_count": 32,
   "metadata": {},
   "outputs": [
    {
     "data": {
      "image/png": "[encoded data removed]",
      "text/plain": [
       "<Figure size 576x576 with 1 Axes>"
      ]
     },
     "metadata": {
      "needs_background": "light"
     },
     "output_type": "display_data"
    }
   ],
   "source": [
    "# Let's use the convert label value function that we wrote before. What we're doing is \n",
    "# for y in predictions on untrained, for every prediction we're converting it to a price. \n",
    "# So every prediction will be converted to its corresponding price. That's basically stored \n",
    "# in our price untrained.\n",
    "price_untrained = [convert_label_value(y) for y in preds_on_untrained]\n",
    "\n",
    "#Similarly, we will have price trained.\n",
    "price_trained = [convert_label_value(y) for y in preds_on_trained]\n",
    "\n",
    "# We also need the price for the ground truth (y_test)\n",
    "price_test = [convert_label_value(y) for y in y_test]\n",
    "\n",
    "# Once this is done, all we have to do is use the compared predictions helper function \n",
    "# and send price untrained, price trained, and price test.\n",
    "\n",
    "compare_predictions(price_untrained, price_trained, price_test)"
   ]
  },
  {
   "cell_type": "markdown",
   "metadata": {},
   "source": [
    "We pretty much get the same graph, but the ranges are now\n",
    "different.\n",
    "We can see the ranges in x-axis is from 12,000 to 16,000 or something for\n",
    "both predictions and labels.\n",
    "We can also see that the trained model is a lot more\n",
    "aligned in its predictions to ground truth compared to the\n",
    "untrained model, which is pretty random."
   ]
  },
  {
   "cell_type": "markdown",
   "metadata": {},
   "source": [
    "Now we know how to approach and solve regression problems with neural networks using __tensorflow__ and __keras__. We also perform normalization on our data. We used help of functions from scikit learn to split our\n",
    "data into training and test set. And we also understood the use of callbacks."
   ]
  }
 ],
 "metadata": {
  "kernelspec": {
   "display_name": "Python 3 (ipykernel)",
   "language": "python",
   "name": "python3"
  },
  "language_info": {
   "codemirror_mode": {
    "name": "ipython",
    "version": 3
   },
   "file_extension": ".py",
   "mimetype": "text/x-python",
   "name": "python",
   "nbconvert_exporter": "python",
   "pygments_lexer": "ipython3",
   "version": "3.8.13"
  }
 },
 "nbformat": 4,
 "nbformat_minor": 4
}
